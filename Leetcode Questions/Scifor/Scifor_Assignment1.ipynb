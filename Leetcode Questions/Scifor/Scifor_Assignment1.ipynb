{
  "nbformat": 4,
  "nbformat_minor": 0,
  "metadata": {
    "colab": {
      "provenance": []
    },
    "kernelspec": {
      "name": "python3",
      "display_name": "Python 3"
    },
    "language_info": {
      "name": "python"
    }
  },
  "cells": [
    {
      "cell_type": "markdown",
      "source": [
        "Q1. Create a python program to sort the given list of tuples based on integer value using a\n",
        "lambda function."
      ],
      "metadata": {
        "id": "PMJF9vCQ7H4-"
      }
    },
    {
      "cell_type": "code",
      "source": [
        "list1=[('Sachin Tendulkar', 34357), ('Ricky Ponting', 27483), ('Jack Kallis', 25534), ('Virat Kohli',\n",
        "24936)]\n",
        "list1.sort(key=lambda x:x[1])\n",
        "print(list1)"
      ],
      "metadata": {
        "colab": {
          "base_uri": "https://localhost:8080/"
        },
        "id": "eqcJsBV17gjS",
        "outputId": "50e59189-c765-4b84-f117-f80c9afe8aac"
      },
      "execution_count": null,
      "outputs": [
        {
          "output_type": "stream",
          "name": "stdout",
          "text": [
            "[('Virat Kohli', 24936), ('Jack Kallis', 25534), ('Ricky Ponting', 27483), ('Sachin Tendulkar', 34357)]\n"
          ]
        }
      ]
    },
    {
      "cell_type": "markdown",
      "source": [
        "Q2. Write a Python Program to find the squares of all the numbers in the given list of integers\n",
        "using lambda and map functions.\n"
      ],
      "metadata": {
        "id": "A7FrVKx77J8G"
      }
    },
    {
      "cell_type": "code",
      "source": [
        "list2=[1, 2, 3, 4, 5, 6, 7, 8, 9, 10]\n",
        "list(map(lambda x:x**2,list2))\n"
      ],
      "metadata": {
        "colab": {
          "base_uri": "https://localhost:8080/"
        },
        "id": "xhJkHwat7Jf3",
        "outputId": "2a27a6bc-1bb9-4199-8ab5-40e7fc49352d"
      },
      "execution_count": null,
      "outputs": [
        {
          "output_type": "execute_result",
          "data": {
            "text/plain": [
              "[1, 4, 9, 16, 25, 36, 49, 64, 81, 100]"
            ]
          },
          "metadata": {},
          "execution_count": 16
        }
      ]
    },
    {
      "cell_type": "markdown",
      "source": [
        "Q3. Write a python program to convert the given list of integers into a tuple of strings. Use map\n",
        "and lambda functions"
      ],
      "metadata": {
        "id": "fxFeZYLb7NXm"
      }
    },
    {
      "cell_type": "code",
      "source": [
        "list3=[1, 2, 3, 4, 5, 6, 7, 8, 9, 10]\n",
        "tuple(map(lambda x:str(x),list3))\n"
      ],
      "metadata": {
        "colab": {
          "base_uri": "https://localhost:8080/"
        },
        "id": "xprXKgT67RJW",
        "outputId": "5173aad0-4670-4264-89a6-97974bc01b26"
      },
      "execution_count": null,
      "outputs": [
        {
          "output_type": "execute_result",
          "data": {
            "text/plain": [
              "('1', '2', '3', '4', '5', '6', '7', '8', '9', '10')"
            ]
          },
          "metadata": {},
          "execution_count": 15
        }
      ]
    },
    {
      "cell_type": "markdown",
      "source": [
        "Q4. Write a python program using reduce function to compute the product of a list containing\n",
        "numbers from 1 to 25.\n"
      ],
      "metadata": {
        "id": "bFnhRBVr7Rrb"
      }
    },
    {
      "cell_type": "code",
      "source": [
        "list4=[i for i in range(1,26)]\n",
        "print(list4)\n",
        "import functools\n",
        "print(functools.reduce(lambda x,y:x*y,list4))"
      ],
      "metadata": {
        "colab": {
          "base_uri": "https://localhost:8080/"
        },
        "id": "FvFa7B7JDBWa",
        "outputId": "f1f4821c-a975-48ae-9992-d05c5f1a5ae2"
      },
      "execution_count": null,
      "outputs": [
        {
          "output_type": "stream",
          "name": "stdout",
          "text": [
            "[1, 2, 3, 4, 5, 6, 7, 8, 9, 10, 11, 12, 13, 14, 15, 16, 17, 18, 19, 20, 21, 22, 23, 24, 25]\n",
            "15511210043330985984000000\n"
          ]
        }
      ]
    },
    {
      "cell_type": "markdown",
      "source": [
        "Q5. Write a python program to filter the numbers in a given list that are divisible by 2 and 3"
      ],
      "metadata": {
        "id": "sP4IGeI87UZN"
      }
    },
    {
      "cell_type": "code",
      "source": [
        "list5=[2, 3, 6, 9, 27, 60, 90, 120, 55, 46]\n",
        "list(filter(lambda x:x%2==0 and x%3==0,list5))"
      ],
      "metadata": {
        "colab": {
          "base_uri": "https://localhost:8080/"
        },
        "id": "9v_tLOtshll5",
        "outputId": "b5b586d3-34f1-40b1-de54-6d6dc0da3455"
      },
      "execution_count": null,
      "outputs": [
        {
          "output_type": "execute_result",
          "data": {
            "text/plain": [
              "[6, 60, 90, 120]"
            ]
          },
          "metadata": {},
          "execution_count": 10
        }
      ]
    },
    {
      "cell_type": "markdown",
      "source": [
        "Q6. Write a python program to find palindromes in the given list of strings using lambda and\n",
        "filter function.\n"
      ],
      "metadata": {
        "id": "DYvqkZ1g7ZxX"
      }
    },
    {
      "cell_type": "code",
      "source": [
        "list6=['python', 'php', 'aba', 'radar', 'level']\n",
        "list(filter(lambda x:x==x[::-1],list6))"
      ],
      "metadata": {
        "colab": {
          "base_uri": "https://localhost:8080/"
        },
        "id": "FXmStw2Skpq1",
        "outputId": "0c72e4d9-3346-4b41-dc03-4116563fbdc2"
      },
      "execution_count": null,
      "outputs": [
        {
          "output_type": "execute_result",
          "data": {
            "text/plain": [
              "['php', 'aba', 'radar', 'level']"
            ]
          },
          "metadata": {},
          "execution_count": 19
        }
      ]
    }
  ]
}