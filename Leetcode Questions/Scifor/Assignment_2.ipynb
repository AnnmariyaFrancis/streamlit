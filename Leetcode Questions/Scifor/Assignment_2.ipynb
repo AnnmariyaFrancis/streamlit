{
  "nbformat": 4,
  "nbformat_minor": 0,
  "metadata": {
    "colab": {
      "provenance": [],
      "authorship_tag": "ABX9TyMAWU4yk9T7mZCM4Oer1CyV",
      "include_colab_link": true
    },
    "kernelspec": {
      "name": "python3",
      "display_name": "Python 3"
    },
    "language_info": {
      "name": "python"
    }
  },
  "cells": [
    {
      "cell_type": "markdown",
      "metadata": {
        "id": "view-in-github",
        "colab_type": "text"
      },
      "source": [
        "<a href=\"https://colab.research.google.com/github/AnnmariyaFrancis/Scifor/blob/main/Assignment_2.ipynb\" target=\"_parent\"><img src=\"https://colab.research.google.com/assets/colab-badge.svg\" alt=\"Open In Colab\"/></a>"
      ]
    },
    {
      "cell_type": "markdown",
      "source": [
        "**1.What is the difference between list and tuple**"
      ],
      "metadata": {
        "id": "GxJllnD8hMwo"
      }
    },
    {
      "cell_type": "markdown",
      "source": [
        "List:They are mutable. Their elements can be changes after list is created. They are defined inside [].\n",
        "\n",
        "Tuple:They are immutable. Elements cannot be changed after tuple is created. Tuple are defined using parenthesis (). Tuple are faster than lists, as they are immutable."
      ],
      "metadata": {
        "id": "V_xbzEFghNZl"
      }
    },
    {
      "cell_type": "markdown",
      "source": [
        "**2.How can you iterate through a list in Python?**"
      ],
      "metadata": {
        "id": "-jQLPMCAiRQY"
      }
    },
    {
      "cell_type": "markdown",
      "source": [
        "1.Using for loop"
      ],
      "metadata": {
        "id": "OR4qAc_mijlD"
      }
    },
    {
      "cell_type": "code",
      "source": [
        "\n",
        "my_list = [1, 2, 3, 4, 5]\n",
        "for item in my_list:\n",
        "    print(item)"
      ],
      "metadata": {
        "colab": {
          "base_uri": "https://localhost:8080/"
        },
        "id": "dG8BuZePioKc",
        "outputId": "1c7092e0-c4cf-4f1f-e425-b860f24b7cdc"
      },
      "execution_count": 1,
      "outputs": [
        {
          "output_type": "stream",
          "name": "stdout",
          "text": [
            "1\n",
            "2\n",
            "3\n",
            "4\n",
            "5\n"
          ]
        }
      ]
    },
    {
      "cell_type": "markdown",
      "source": [
        "2.Using enumerate function to access both index and element"
      ],
      "metadata": {
        "id": "8EGZLTadjGXZ"
      }
    },
    {
      "cell_type": "code",
      "source": [
        "my_list = [2,4,6,8]\n",
        "for index, i in enumerate(my_list):\n",
        "    print(f'Index: {index}, Value')"
      ],
      "metadata": {
        "colab": {
          "base_uri": "https://localhost:8080/"
        },
        "id": "icDR9kpljN57",
        "outputId": "d224c866-cc63-4f3b-9cf0-ce3ed1da82f8"
      },
      "execution_count": 6,
      "outputs": [
        {
          "output_type": "stream",
          "name": "stdout",
          "text": [
            "Index: 0, Value\n",
            "Index: 1, Value\n",
            "Index: 2, Value\n",
            "Index: 3, Value\n"
          ]
        }
      ]
    },
    {
      "cell_type": "markdown",
      "source": [
        "3.Using while loop"
      ],
      "metadata": {
        "id": "fhn2vXZLjfEw"
      }
    },
    {
      "cell_type": "code",
      "source": [
        "my_list = [1,3,5,7]\n",
        "index = 0\n",
        "while index < len(my_list):\n",
        "    print(my_list[index])\n",
        "    index += 1"
      ],
      "metadata": {
        "colab": {
          "base_uri": "https://localhost:8080/"
        },
        "id": "CsFS0UMKjh8Q",
        "outputId": "f18663ae-1e17-476e-84f1-92c2148c9903"
      },
      "execution_count": 7,
      "outputs": [
        {
          "output_type": "stream",
          "name": "stdout",
          "text": [
            "1\n",
            "3\n",
            "5\n",
            "7\n"
          ]
        }
      ]
    },
    {
      "cell_type": "markdown",
      "source": [
        "**3.How do you handle exceptions in Python?***"
      ],
      "metadata": {
        "id": "xSiQkP3wivSG"
      }
    },
    {
      "cell_type": "markdown",
      "source": [
        "The try block contains the code that might raise an exception.\n",
        "The except block catches specific exceptions and handles them accordingly.\n",
        "The else block runs if no exceptions are encountered.\n",
        "The finally block always runs, regardless of whether an exception occurred or not."
      ],
      "metadata": {
        "id": "Q2qSuRcAkr8Y"
      }
    },
    {
      "cell_type": "code",
      "source": [
        "try:\n",
        "    result = 10 / 0\n",
        "except ZeroDivisionError:\n",
        "    print(\"Error: Division by zero!\")\n",
        "except Exception as e:\n",
        "    print(f\"An error occurred: {e}\")\n",
        "else:\n",
        "    print(\"No errors occurred.\")\n",
        "finally:\n",
        "    print(\"This is the end of the try-except block.\")"
      ],
      "metadata": {
        "colab": {
          "base_uri": "https://localhost:8080/"
        },
        "id": "wGQPYHAjkwUK",
        "outputId": "fcb53479-1ecf-4f9f-be9f-f69de3bccf35"
      },
      "execution_count": 8,
      "outputs": [
        {
          "output_type": "stream",
          "name": "stdout",
          "text": [
            "Error: Division by zero!\n",
            "This is the end of the try-except block.\n"
          ]
        }
      ]
    },
    {
      "cell_type": "markdown",
      "source": [
        "**4.What are list comprehensions in Python?**"
      ],
      "metadata": {
        "id": "YkjnjE87GnED"
      }
    },
    {
      "cell_type": "markdown",
      "source": [
        "List comprehension is used to create lists based on existing iterables like strings,lists or any sequences after applying operations or filtering.They make code more concise and readable"
      ],
      "metadata": {
        "id": "c7HgvISWGpww"
      }
    },
    {
      "cell_type": "markdown",
      "source": [
        "**syntax:**\n",
        "new_list = [expression for item in iterable if condition]\n"
      ],
      "metadata": {
        "id": "k19dwlS9H_I5"
      }
    },
    {
      "cell_type": "code",
      "source": [
        "even_squares = [x**2 for x in range(1, 11) if x % 2 == 0]\n",
        "even_squares"
      ],
      "metadata": {
        "colab": {
          "base_uri": "https://localhost:8080/"
        },
        "id": "88pGmOSpHg2T",
        "outputId": "f7ea3142-a226-4873-a802-b4cb497d620c"
      },
      "execution_count": null,
      "outputs": [
        {
          "output_type": "execute_result",
          "data": {
            "text/plain": [
              "[4, 16, 36, 64, 100]"
            ]
          },
          "metadata": {},
          "execution_count": 3
        }
      ]
    },
    {
      "cell_type": "markdown",
      "source": [
        "\n",
        "5.What is the purpose of the if __name__ == \"__main__\" statement?\n"
      ],
      "metadata": {
        "id": "JgBzhQMTIHKW"
      }
    },
    {
      "cell_type": "markdown",
      "source": [
        "if __name__ == \"__main__\": is a useful construct to ensure that code runs only when a Python script is executed as the main program and not when it's imported as a module.\n",
        "1.you can define functions,classes within the file and import them into other files withoust executing the code inside __name__ == \"__main__\""
      ],
      "metadata": {
        "id": "qZ8yV8GyIPnQ"
      }
    },
    {
      "cell_type": "code",
      "source": [
        "if __name__ == \"__main__\":\n",
        "    print(\"This code is executed because the script is the main program.\")\n",
        "else:\n",
        "    print(\"This code is not in the main program.\")"
      ],
      "metadata": {
        "colab": {
          "base_uri": "https://localhost:8080/"
        },
        "id": "dKg5p9KOR_W8",
        "outputId": "2b27fe8b-262a-4e32-baeb-6d34d7e40873"
      },
      "execution_count": null,
      "outputs": [
        {
          "output_type": "stream",
          "name": "stdout",
          "text": [
            "This code is executed because the script is the main program.\n"
          ]
        }
      ]
    },
    {
      "cell_type": "markdown",
      "source": [
        "**6.What is the purpose of the with statement in Python?**"
      ],
      "metadata": {
        "id": "OpJcKSe2ST8u"
      }
    },
    {
      "cell_type": "markdown",
      "source": [
        "The most common use case for the with statement is working with files using the open() function"
      ],
      "metadata": {
        "id": "0NvoXgq-HtGX"
      }
    },
    {
      "cell_type": "code",
      "source": [
        "with open('file.txt', 'r') as file:\n",
        "    data = file.read()\n",
        "#File is closed automatically when the block us exited"
      ],
      "metadata": {
        "id": "gfUiK2R6iIeM"
      },
      "execution_count": null,
      "outputs": []
    },
    {
      "cell_type": "markdown",
      "source": [
        "You can create your own context managers by defining classes with __enter__() and __exit__() methods."
      ],
      "metadata": {
        "id": "xA5H6uldrzaw"
      }
    },
    {
      "cell_type": "code",
      "source": [
        "class MyContextmanager:\n",
        "    def __enter__(self):\n",
        "        print(\"Entering the context\")\n",
        "        return self\n",
        "    def __exit__(self, exc_type, exc_value, traceback):#exception type,exception value,traceback used for handling exceptions\n",
        "        print(\"Exiting the context\")\n",
        "\n",
        "with MyContextmanager() as my_context:\n",
        "    print(\"Inside the context\")"
      ],
      "metadata": {
        "colab": {
          "base_uri": "https://localhost:8080/"
        },
        "id": "vFYCaU_Nr1mC",
        "outputId": "a2e8d43e-a94a-4de9-b589-1532f73e77fd"
      },
      "execution_count": null,
      "outputs": [
        {
          "output_type": "stream",
          "name": "stdout",
          "text": [
            "Entering the context\n",
            "Inside the context\n",
            "Exiting the context\n"
          ]
        }
      ]
    },
    {
      "cell_type": "markdown",
      "source": [
        "with statement is used to create a context Mycontextmanager as  my_context\n",
        "\n",
        "---\n",
        "\n"
      ],
      "metadata": {
        "id": "25re6IXGuhVK"
      }
    },
    {
      "cell_type": "markdown",
      "source": [
        "**7.What are the key features of Spark?**\n"
      ],
      "metadata": {
        "id": "dvEZiBujrIgh"
      }
    },
    {
      "cell_type": "markdown",
      "source": [
        "1.Apache spark provides both batch processing and stream processing\n",
        "\n",
        "2.In memory data processing ,faster than traditional batch processing system.\n",
        "\n",
        "3.Spark uses RDD which are fault tolerant collections of elements that can be operated in parallel.\n",
        "\n",
        "4.spark performs real time and graph processing .\n",
        "\n",
        "5.Supports user friendly APIs for different languages\n",
        "\n",
        "6.Spark is developed in scala and supports python,R,Java.\n",
        "\n",
        "7.It has built in memory manager that allows you to specify how much memory should be allocated for caching ,shuffling and execution.\n",
        "\n",
        "8.Spark can dynamically allocate and deallocate memory based on the specific needs of tasks and stages within your application.\n",
        "\n",
        "9.Spark's MLib library provides machine learning framework,allowing you to build machine learning models.\n",
        "\n",
        "10.lazy execution .It does not execute operations until an action is performed\n"
      ],
      "metadata": {
        "id": "r5U86WPAuzQE"
      }
    },
    {
      "cell_type": "markdown",
      "source": [
        "**8.What are Resilient Distributed Datasets (RDDs) in Spark?**"
      ],
      "metadata": {
        "id": "hSdQlTZ9rYMk"
      }
    },
    {
      "cell_type": "markdown",
      "source": [
        "1.RDD is a fundamental data structure in Apache Spark.They are resilient since they can recover lost data in case of a node failure.\n",
        "\n",
        "2.Data is partitioned across multiple nodes allowing or parallel processing\n",
        "\n",
        "3.RDDs are immutable their contents can not be changed\n",
        "\n",
        "4.You can create new RDD  through transformations\n",
        "\n",
        "5.In memory caching  enbles very fast data access\n",
        "\n",
        "6.lazy execution .It does not execute operations until an action is performed"
      ],
      "metadata": {
        "id": "s6uYhsAXyGtQ"
      }
    },
    {
      "cell_type": "markdown",
      "source": [
        "**9.What is the difference between RDD and dataFrame?**"
      ],
      "metadata": {
        "id": "0wWw-iyOeLd4"
      }
    },
    {
      "cell_type": "markdown",
      "source": [
        "RDD:RDD is a low level data structure.RDD has no schema that defines a structure.RDD require more manual coding\n",
        "\n",
        "DataFrame:is high level data structure which is a distributed collection of data organized into names columns. Easier manipulation is possible through SQL-like queries."
      ],
      "metadata": {
        "id": "FYS0khmH1Gyr"
      }
    },
    {
      "cell_type": "markdown",
      "source": [
        "**10.What is Spark's ecosystem?**"
      ],
      "metadata": {
        "id": "xYYV3PoErhAe"
      }
    },
    {
      "cell_type": "markdown",
      "source": [
        "Sparks ecosystem contains the following components\n",
        "\n",
        "1.spark SQL-It is built on the top of spark core. Provides support for structured data.\n",
        "\n",
        "2.Spark Streaming- It is a Spark component that supports scalable and fault-tolerant processing of streaming data.\n",
        "\n",
        "3.The MLlib -It is a Machine Learning library that contains various machine learning algorithms.\n",
        "These include correlations and hypothesis testing, classification and regression, clustering, and principal component analysis.\n",
        "\n",
        "4.The GraphX is a library that is used to manipulate graphs and perform graph-parallel computations."
      ],
      "metadata": {
        "id": "3Q_93C2Erg2Z"
      }
    }
  ]
}